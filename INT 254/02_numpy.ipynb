{
 "cells": [
  {
   "cell_type": "markdown",
   "id": "aae79b5b-2698-41da-9fc7-ce9f9caaa900",
   "metadata": {},
   "source": [
    "# Matrix operations"
   ]
  },
  {
   "cell_type": "code",
   "execution_count": 1,
   "id": "a0d82e46-0c24-47e8-a9e7-f9b68b370b1c",
   "metadata": {},
   "outputs": [],
   "source": [
    "import numpy as np"
   ]
  },
  {
   "cell_type": "code",
   "execution_count": 2,
   "id": "6aa91198-20cd-46db-95c5-c18244108c69",
   "metadata": {},
   "outputs": [],
   "source": [
    "arr1 = np.array([[1,2,3], \n",
    "                 [4,5,6], \n",
    "                 [7,8,9]])"
   ]
  },
  {
   "cell_type": "code",
   "execution_count": 3,
   "id": "87f9e18d-e066-4845-ab8d-cd3c12beac1d",
   "metadata": {},
   "outputs": [],
   "source": [
    "arr2 = np.array([[22,10,7], \n",
    "                 [14,11,6], \n",
    "                 [17,80,29]])"
   ]
  },
  {
   "cell_type": "code",
   "execution_count": 4,
   "id": "ed6d55e8-af28-4818-bc02-7c6f34610308",
   "metadata": {},
   "outputs": [],
   "source": [
    "arr3 = arr1 + arr2"
   ]
  },
  {
   "cell_type": "code",
   "execution_count": 5,
   "id": "1e8ae134-41ed-4ebe-8714-52cf2ce5bf1d",
   "metadata": {},
   "outputs": [
    {
     "data": {
      "text/plain": [
       "array([[23, 12, 10],\n",
       "       [18, 16, 12],\n",
       "       [24, 88, 38]])"
      ]
     },
     "execution_count": 5,
     "metadata": {},
     "output_type": "execute_result"
    }
   ],
   "source": [
    "arr3"
   ]
  },
  {
   "cell_type": "code",
   "execution_count": 6,
   "id": "dcc43e38-5ae6-4f23-96de-93dca2e6480d",
   "metadata": {},
   "outputs": [
    {
     "data": {
      "text/plain": [
       "array([[ 22,  20,  21],\n",
       "       [ 56,  55,  36],\n",
       "       [119, 640, 261]])"
      ]
     },
     "execution_count": 6,
     "metadata": {},
     "output_type": "execute_result"
    }
   ],
   "source": [
    "arr1 * arr2"
   ]
  },
  {
   "cell_type": "code",
   "execution_count": 7,
   "id": "27805f45-0bcd-470c-becc-5be092da2560",
   "metadata": {},
   "outputs": [
    {
     "data": {
      "text/plain": [
       "array([[1.        , 1.41421356, 1.73205081],\n",
       "       [2.        , 2.23606798, 2.44948974],\n",
       "       [2.64575131, 2.82842712, 3.        ]])"
      ]
     },
     "execution_count": 7,
     "metadata": {},
     "output_type": "execute_result"
    }
   ],
   "source": [
    "np.sqrt(arr1)"
   ]
  },
  {
   "cell_type": "code",
   "execution_count": 8,
   "id": "4ed9bcc8-0ad5-4518-9533-7e2610482ea8",
   "metadata": {},
   "outputs": [
    {
     "data": {
      "text/plain": [
       "45"
      ]
     },
     "execution_count": 8,
     "metadata": {},
     "output_type": "execute_result"
    }
   ],
   "source": [
    "arr1.sum()"
   ]
  },
  {
   "cell_type": "code",
   "execution_count": 9,
   "id": "2269f5c2-0746-46e1-8862-5a74b33e3039",
   "metadata": {},
   "outputs": [
    {
     "data": {
      "text/plain": [
       "6"
      ]
     },
     "execution_count": 9,
     "metadata": {},
     "output_type": "execute_result"
    }
   ],
   "source": [
    "arr2.min()"
   ]
  },
  {
   "cell_type": "code",
   "execution_count": 10,
   "id": "b4d28053-fa24-4ff0-8021-655776ea702d",
   "metadata": {},
   "outputs": [
    {
     "data": {
      "text/plain": [
       "88"
      ]
     },
     "execution_count": 10,
     "metadata": {},
     "output_type": "execute_result"
    }
   ],
   "source": [
    "arr3.max()"
   ]
  },
  {
   "cell_type": "code",
   "execution_count": 11,
   "id": "bbef8343-469b-4159-afd9-79cba1b3c474",
   "metadata": {},
   "outputs": [
    {
     "data": {
      "text/plain": [
       "array([[False, False, False],\n",
       "       [False, False, False],\n",
       "       [ True,  True,  True]])"
      ]
     },
     "execution_count": 11,
     "metadata": {},
     "output_type": "execute_result"
    }
   ],
   "source": [
    "arr1>6"
   ]
  },
  {
   "cell_type": "code",
   "execution_count": 12,
   "id": "2d5f81bf-86bd-4d59-955b-b12a7df3dafc",
   "metadata": {},
   "outputs": [
    {
     "data": {
      "text/plain": [
       "array([[0.16666667, 0.33333333, 0.5       ],\n",
       "       [0.66666667, 0.83333333, 1.        ],\n",
       "       [1.16666667, 1.33333333, 1.5       ]])"
      ]
     },
     "execution_count": 12,
     "metadata": {},
     "output_type": "execute_result"
    }
   ],
   "source": [
    "arr1/6"
   ]
  },
  {
   "cell_type": "code",
   "execution_count": 13,
   "id": "458344ae-29ad-45b3-a545-75fe06cdf473",
   "metadata": {},
   "outputs": [
    {
     "data": {
      "text/plain": [
       "array([[ 6, 12, 18],\n",
       "       [24, 30, 36],\n",
       "       [42, 48, 54]])"
      ]
     },
     "execution_count": 13,
     "metadata": {},
     "output_type": "execute_result"
    }
   ],
   "source": [
    "arr1*6"
   ]
  },
  {
   "cell_type": "code",
   "execution_count": 14,
   "id": "90953356-e979-4432-ab2d-798f267b2b79",
   "metadata": {},
   "outputs": [
    {
     "data": {
      "text/plain": [
       "array([[-5, -4, -3],\n",
       "       [-2, -1,  0],\n",
       "       [ 1,  2,  3]])"
      ]
     },
     "execution_count": 14,
     "metadata": {},
     "output_type": "execute_result"
    }
   ],
   "source": [
    "arr1-6"
   ]
  },
  {
   "cell_type": "code",
   "execution_count": 15,
   "id": "b1937666-cdc8-4c2c-8477-3e069a8d0f3e",
   "metadata": {},
   "outputs": [
    {
     "data": {
      "text/plain": [
       "array([[ 7,  8,  9],\n",
       "       [10, 11, 12],\n",
       "       [13, 14, 15]])"
      ]
     },
     "execution_count": 15,
     "metadata": {},
     "output_type": "execute_result"
    }
   ],
   "source": [
    "arr1+6"
   ]
  },
  {
   "cell_type": "code",
   "execution_count": 16,
   "id": "38936f39-5510-428e-9f45-9e1423cde383",
   "metadata": {},
   "outputs": [
    {
     "data": {
      "text/plain": [
       "array([[ True, False, False],\n",
       "       [ True,  True, False],\n",
       "       [ True,  True,  True]])"
      ]
     },
     "execution_count": 16,
     "metadata": {},
     "output_type": "execute_result"
    }
   ],
   "source": [
    "arr2>10"
   ]
  },
  {
   "cell_type": "code",
   "execution_count": 17,
   "id": "44510dda-4578-4af6-8a9c-96f2b5056cda",
   "metadata": {},
   "outputs": [
    {
     "data": {
      "text/plain": [
       "(array([0, 1, 1, 2, 2, 2], dtype=int64),\n",
       " array([0, 0, 1, 0, 1, 2], dtype=int64))"
      ]
     },
     "execution_count": 17,
     "metadata": {},
     "output_type": "execute_result"
    }
   ],
   "source": [
    "np.where(arr2>10)"
   ]
  },
  {
   "cell_type": "code",
   "execution_count": 18,
   "id": "a185f795-ca64-4af6-afed-4d5068b79a29",
   "metadata": {},
   "outputs": [
    {
     "data": {
      "text/plain": [
       "tuple"
      ]
     },
     "execution_count": 18,
     "metadata": {},
     "output_type": "execute_result"
    }
   ],
   "source": [
    "type(np.where(arr2>10))"
   ]
  },
  {
   "cell_type": "code",
   "execution_count": 19,
   "id": "f3c9d376-bab0-4711-b9e3-66894158bd87",
   "metadata": {},
   "outputs": [
    {
     "data": {
      "text/plain": [
       "9"
      ]
     },
     "execution_count": 19,
     "metadata": {},
     "output_type": "execute_result"
    }
   ],
   "source": [
    "np.count_nonzero(arr2)"
   ]
  },
  {
   "cell_type": "code",
   "execution_count": 20,
   "id": "518cc6ce-0f99-40d4-8706-7cd4ea4823fc",
   "metadata": {},
   "outputs": [
    {
     "data": {
      "text/plain": [
       "(array([0, 0, 0, 1, 1, 1, 2, 2, 2], dtype=int64),\n",
       " array([0, 1, 2, 0, 1, 2, 0, 1, 2], dtype=int64))"
      ]
     },
     "execution_count": 20,
     "metadata": {},
     "output_type": "execute_result"
    }
   ],
   "source": [
    "np.nonzero(arr2)"
   ]
  },
  {
   "cell_type": "code",
   "execution_count": null,
   "id": "f548ed5b-8bb4-4ae9-ab85-ada396bbb479",
   "metadata": {},
   "outputs": [],
   "source": []
  }
 ],
 "metadata": {
  "kernelspec": {
   "display_name": "Python 3 (ipykernel)",
   "language": "python",
   "name": "python3"
  },
  "language_info": {
   "codemirror_mode": {
    "name": "ipython",
    "version": 3
   },
   "file_extension": ".py",
   "mimetype": "text/x-python",
   "name": "python",
   "nbconvert_exporter": "python",
   "pygments_lexer": "ipython3",
   "version": "3.12.1"
  }
 },
 "nbformat": 4,
 "nbformat_minor": 5
}
