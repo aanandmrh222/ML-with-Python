{
 "cells": [
  {
   "cell_type": "code",
   "execution_count": 6,
   "id": "a3aed1db",
   "metadata": {},
   "outputs": [],
   "source": [
    "distance = [10, 15, 17, 26]\n",
    "time = [0.3, 0.47, 0.55, 1.20]"
   ]
  },
  {
   "cell_type": "code",
   "execution_count": 7,
   "id": "27ec7275",
   "metadata": {},
   "outputs": [
    {
     "ename": "TypeError",
     "evalue": "unsupported operand type(s) for /: 'list' and 'list'",
     "output_type": "error",
     "traceback": [
      "\u001b[1;31m---------------------------------------------------------------------------\u001b[0m",
      "\u001b[1;31mTypeError\u001b[0m                                 Traceback (most recent call last)",
      "\u001b[1;32m<ipython-input-7-20a7f05c102d>\u001b[0m in \u001b[0;36m<module>\u001b[1;34m\u001b[0m\n\u001b[1;32m----> 1\u001b[1;33m \u001b[0mspeed\u001b[0m \u001b[1;33m=\u001b[0m \u001b[0mdistance\u001b[0m\u001b[1;33m/\u001b[0m\u001b[0mtime\u001b[0m\u001b[1;33m\u001b[0m\u001b[1;33m\u001b[0m\u001b[0m\n\u001b[0m",
      "\u001b[1;31mTypeError\u001b[0m: unsupported operand type(s) for /: 'list' and 'list'"
     ]
    }
   ],
   "source": [
    "speed = distance/time"
   ]
  },
  {
   "cell_type": "code",
   "execution_count": 8,
   "id": "a9ff81dc",
   "metadata": {},
   "outputs": [],
   "source": [
    "import numpy as np"
   ]
  },
  {
   "cell_type": "code",
   "execution_count": 9,
   "id": "70100826",
   "metadata": {},
   "outputs": [],
   "source": [
    "np_distance = np.array(distance)\n",
    "np_time = np.array(time)"
   ]
  },
  {
   "cell_type": "code",
   "execution_count": 10,
   "id": "8c0dc9fe",
   "metadata": {},
   "outputs": [],
   "source": [
    "np_speed = np_distance/np_time"
   ]
  },
  {
   "cell_type": "code",
   "execution_count": 13,
   "id": "f09a2d99",
   "metadata": {},
   "outputs": [
    {
     "data": {
      "text/plain": [
       "array([33.33333333, 31.91489362, 30.90909091, 21.66666667])"
      ]
     },
     "execution_count": 13,
     "metadata": {},
     "output_type": "execute_result"
    }
   ],
   "source": [
    "np_speed"
   ]
  },
  {
   "cell_type": "code",
   "execution_count": 15,
   "id": "476344f1",
   "metadata": {},
   "outputs": [],
   "source": [
    "#Classes and attributes of ndarray\n",
    "np_city = np.array(['NYC', 'LA', 'Miami', 'Houston'])"
   ]
  },
  {
   "cell_type": "code",
   "execution_count": 16,
   "id": "c9c80e1f",
   "metadata": {},
   "outputs": [
    {
     "data": {
      "text/plain": [
       "1"
      ]
     },
     "execution_count": 16,
     "metadata": {},
     "output_type": "execute_result"
    }
   ],
   "source": [
    "np_city.ndim"
   ]
  },
  {
   "cell_type": "code",
   "execution_count": 17,
   "id": "047130e1",
   "metadata": {},
   "outputs": [
    {
     "data": {
      "text/plain": [
       "array([['NYC', 'LA', 'Miami', 'Houston'],\n",
       "       ['NY', 'CA', 'FA', 'TX']], dtype='<U7')"
      ]
     },
     "execution_count": 17,
     "metadata": {},
     "output_type": "execute_result"
    }
   ],
   "source": [
    "np_city_with_state = np.array([['NYC', 'LA', 'Miami', 'Houston'], \n",
    "                               ['NY', 'CA', 'FA', 'TX']])\n",
    "np_city_with_state"
   ]
  },
  {
   "cell_type": "code",
   "execution_count": 18,
   "id": "4c638209",
   "metadata": {},
   "outputs": [
    {
     "data": {
      "text/plain": [
       "2"
      ]
     },
     "execution_count": 18,
     "metadata": {},
     "output_type": "execute_result"
    }
   ],
   "source": [
    "np_city_with_state.ndim"
   ]
  },
  {
   "cell_type": "code",
   "execution_count": 19,
   "id": "c574c793",
   "metadata": {},
   "outputs": [
    {
     "data": {
      "text/plain": [
       "(4,)"
      ]
     },
     "execution_count": 19,
     "metadata": {},
     "output_type": "execute_result"
    }
   ],
   "source": [
    "np_city.shape"
   ]
  },
  {
   "cell_type": "code",
   "execution_count": 20,
   "id": "a5a31cb3",
   "metadata": {},
   "outputs": [
    {
     "data": {
      "text/plain": [
       "(2, 4)"
      ]
     },
     "execution_count": 20,
     "metadata": {},
     "output_type": "execute_result"
    }
   ],
   "source": [
    "np_city_with_state.shape"
   ]
  },
  {
   "cell_type": "code",
   "execution_count": null,
   "id": "78ee5635",
   "metadata": {},
   "outputs": [],
   "source": [
    "#Shape, size, ndim and dtype are attributes of ndarray"
   ]
  },
  {
   "cell_type": "code",
   "execution_count": null,
   "id": "3df56860",
   "metadata": {},
   "outputs": [],
   "source": [
    "#Basic operations on an array"
   ]
  },
  {
   "cell_type": "code",
   "execution_count": 21,
   "id": "429b4fac",
   "metadata": {},
   "outputs": [],
   "source": [
    "first_trail_cyclist = [10, 15, 17, 26]\n",
    "second_trail_cyclist = [12, 11, 21, 24]"
   ]
  },
  {
   "cell_type": "code",
   "execution_count": 22,
   "id": "3aff154f",
   "metadata": {},
   "outputs": [],
   "source": [
    "np_first_trail_cyclist = np.array(first_trail_cyclist)\n",
    "np_second_trail_cyclist = np.array(second_trail_cyclist)"
   ]
  },
  {
   "cell_type": "code",
   "execution_count": 26,
   "id": "ffc5a057",
   "metadata": {},
   "outputs": [
    {
     "data": {
      "text/plain": [
       "array([22, 26, 38, 50])"
      ]
     },
     "execution_count": 26,
     "metadata": {},
     "output_type": "execute_result"
    }
   ],
   "source": [
    "total_distance = np_first_trail_cyclist + np_second_trail_cyclist\n",
    "total_distance"
   ]
  },
  {
   "cell_type": "code",
   "execution_count": 27,
   "id": "d463c95e",
   "metadata": {},
   "outputs": [
    {
     "data": {
      "text/plain": [
       "(2, 4)"
      ]
     },
     "execution_count": 27,
     "metadata": {},
     "output_type": "execute_result"
    }
   ],
   "source": [
    "#Access the array elements\n",
    "cyclist_trails = np.array([[10, 15, 17, 26], [12, 11, 21, 24]])\n",
    "\n",
    "cyclist_trails.shape"
   ]
  },
  {
   "cell_type": "code",
   "execution_count": 28,
   "id": "5f9721d9",
   "metadata": {},
   "outputs": [
    {
     "data": {
      "text/plain": [
       "array([10, 15, 17, 26])"
      ]
     },
     "execution_count": 28,
     "metadata": {},
     "output_type": "execute_result"
    }
   ],
   "source": [
    "first_trail = cyclist_trails[0]\n",
    "first_trail"
   ]
  },
  {
   "cell_type": "code",
   "execution_count": 29,
   "id": "c6717bbd",
   "metadata": {},
   "outputs": [
    {
     "data": {
      "text/plain": [
       "array([12, 11, 21, 24])"
      ]
     },
     "execution_count": 29,
     "metadata": {},
     "output_type": "execute_result"
    }
   ],
   "source": [
    "second_trail = cyclist_trails[1]\n",
    "second_trail"
   ]
  },
  {
   "cell_type": "code",
   "execution_count": 32,
   "id": "9d8288b6",
   "metadata": {},
   "outputs": [
    {
     "data": {
      "text/plain": [
       "array([10, 12])"
      ]
     },
     "execution_count": 32,
     "metadata": {},
     "output_type": "execute_result"
    }
   ],
   "source": [
    "fisrt_cyclist_all_trails = cyclist_trails[:,0]\n",
    "fisrt_cyclist_all_trails"
   ]
  },
  {
   "cell_type": "code",
   "execution_count": 33,
   "id": "c5fde107",
   "metadata": {},
   "outputs": [
    {
     "data": {
      "text/plain": [
       "array([[10, 15, 17, 26],\n",
       "       [12, 11, 21, 24]])"
      ]
     },
     "execution_count": 33,
     "metadata": {},
     "output_type": "execute_result"
    }
   ],
   "source": [
    "cyclist_trails"
   ]
  },
  {
   "cell_type": "code",
   "execution_count": 34,
   "id": "2c46b750",
   "metadata": {},
   "outputs": [],
   "source": [
    "two_cyclist_trails_data = cyclist_trails[:, 0:2]"
   ]
  },
  {
   "cell_type": "code",
   "execution_count": 35,
   "id": "da1b2892",
   "metadata": {},
   "outputs": [
    {
     "data": {
      "text/plain": [
       "array([[10, 15],\n",
       "       [12, 11]])"
      ]
     },
     "execution_count": 35,
     "metadata": {},
     "output_type": "execute_result"
    }
   ],
   "source": [
    "two_cyclist_trails_data"
   ]
  },
  {
   "cell_type": "code",
   "execution_count": 36,
   "id": "2878a3a6",
   "metadata": {},
   "outputs": [
    {
     "name": "stdout",
     "output_type": "stream",
     "text": [
      "[10 15 17 26]\n",
      "[12 11 21 24]\n"
     ]
    }
   ],
   "source": [
    "#Accessing array elements: iterations\n",
    "for i in cyclist_trails:\n",
    "    print(i)"
   ]
  },
  {
   "cell_type": "code",
   "execution_count": 37,
   "id": "a59e4845",
   "metadata": {},
   "outputs": [
    {
     "name": "stdout",
     "output_type": "stream",
     "text": [
      "[10 15]\n",
      "[12 11]\n"
     ]
    }
   ],
   "source": [
    "for j in two_cyclist_trails_data:\n",
    "    print(j)"
   ]
  },
  {
   "cell_type": "code",
   "execution_count": 38,
   "id": "7e206e91",
   "metadata": {},
   "outputs": [],
   "source": [
    "#Indexing with boolean arrays\n",
    "test_scores =  np.array([[83, 71, 57, 63], [54, 68, 81, 45]])"
   ]
  },
  {
   "cell_type": "code",
   "execution_count": 39,
   "id": "e8088719",
   "metadata": {},
   "outputs": [],
   "source": [
    "pass_score = test_scores > 60"
   ]
  },
  {
   "cell_type": "code",
   "execution_count": 40,
   "id": "46b407bd",
   "metadata": {},
   "outputs": [
    {
     "name": "stdout",
     "output_type": "stream",
     "text": [
      "[[ True  True False  True]\n",
      " [False  True  True False]]\n"
     ]
    }
   ],
   "source": [
    "print(pass_score)"
   ]
  },
  {
   "cell_type": "code",
   "execution_count": 43,
   "id": "9e450786",
   "metadata": {},
   "outputs": [
    {
     "data": {
      "text/plain": [
       "array([83, 71, 63, 68, 81])"
      ]
     },
     "execution_count": 43,
     "metadata": {},
     "output_type": "execute_result"
    }
   ],
   "source": [
    "test_scores[pass_score]"
   ]
  },
  {
   "cell_type": "code",
   "execution_count": 44,
   "id": "f8958b52",
   "metadata": {},
   "outputs": [],
   "source": [
    "#Copy and views\n",
    "#Simple assignment\n",
    "np_city = np.array(['NYC', 'LA', 'Miami', 'Houston'])"
   ]
  },
  {
   "cell_type": "code",
   "execution_count": 45,
   "id": "d7f617da",
   "metadata": {},
   "outputs": [
    {
     "data": {
      "text/plain": [
       "array(['NYC', 'LA', 'Miami', 'Houston'], dtype='<U7')"
      ]
     },
     "execution_count": 45,
     "metadata": {},
     "output_type": "execute_result"
    }
   ],
   "source": [
    "np_city #Original"
   ]
  },
  {
   "cell_type": "code",
   "execution_count": 46,
   "id": "88b5fcb0",
   "metadata": {},
   "outputs": [],
   "source": [
    "new_np_city = np_city"
   ]
  },
  {
   "cell_type": "code",
   "execution_count": 47,
   "id": "c500e25f",
   "metadata": {},
   "outputs": [
    {
     "data": {
      "text/plain": [
       "array(['NYC', 'LA', 'Miami', 'Houston'], dtype='<U7')"
      ]
     },
     "execution_count": 47,
     "metadata": {},
     "output_type": "execute_result"
    }
   ],
   "source": [
    "new_np_city #Assigned data"
   ]
  },
  {
   "cell_type": "code",
   "execution_count": 48,
   "id": "66879ff0",
   "metadata": {},
   "outputs": [
    {
     "data": {
      "text/plain": [
       "True"
      ]
     },
     "execution_count": 48,
     "metadata": {},
     "output_type": "execute_result"
    }
   ],
   "source": [
    "new_np_city is np_city"
   ]
  },
  {
   "cell_type": "code",
   "execution_count": 49,
   "id": "d4d4ff18",
   "metadata": {},
   "outputs": [
    {
     "data": {
      "text/plain": [
       "array(['NYC', 'LA', 'Miami', 'Houston'], dtype='<U7')"
      ]
     },
     "execution_count": 49,
     "metadata": {},
     "output_type": "execute_result"
    }
   ],
   "source": [
    "#View or shallow copy\n",
    "new_np_city"
   ]
  },
  {
   "cell_type": "code",
   "execution_count": 50,
   "id": "b922cc87",
   "metadata": {},
   "outputs": [],
   "source": [
    "view_of_new_np_city = new_np_city.view()"
   ]
  },
  {
   "cell_type": "code",
   "execution_count": 51,
   "id": "8c99ac1a",
   "metadata": {},
   "outputs": [
    {
     "data": {
      "text/plain": [
       "4"
      ]
     },
     "execution_count": 51,
     "metadata": {},
     "output_type": "execute_result"
    }
   ],
   "source": [
    "len(view_of_new_np_city)"
   ]
  },
  {
   "cell_type": "code",
   "execution_count": 52,
   "id": "87f7ac94",
   "metadata": {},
   "outputs": [],
   "source": [
    "view_of_new_np_city[3] = 'Central'"
   ]
  },
  {
   "cell_type": "code",
   "execution_count": 53,
   "id": "17054e04",
   "metadata": {},
   "outputs": [
    {
     "data": {
      "text/plain": [
       "array(['NYC', 'LA', 'Miami', 'Central'], dtype='<U7')"
      ]
     },
     "execution_count": 53,
     "metadata": {},
     "output_type": "execute_result"
    }
   ],
   "source": [
    "view_of_new_np_city"
   ]
  },
  {
   "cell_type": "code",
   "execution_count": 54,
   "id": "ff2c6752",
   "metadata": {},
   "outputs": [
    {
     "data": {
      "text/plain": [
       "False"
      ]
     },
     "execution_count": 54,
     "metadata": {},
     "output_type": "execute_result"
    }
   ],
   "source": [
    "new_np_city is view_of_new_np_city"
   ]
  },
  {
   "cell_type": "code",
   "execution_count": 56,
   "id": "197f24ec",
   "metadata": {},
   "outputs": [
    {
     "data": {
      "text/plain": [
       "array(['NYC', 'LA', 'Miami', 'Central'], dtype='<U7')"
      ]
     },
     "execution_count": 56,
     "metadata": {},
     "output_type": "execute_result"
    }
   ],
   "source": [
    "new_np_city"
   ]
  },
  {
   "cell_type": "code",
   "execution_count": 57,
   "id": "201ac232",
   "metadata": {},
   "outputs": [],
   "source": [
    "#Deep copy\n",
    "copy_of_new_np_city = new_np_city.copy()"
   ]
  },
  {
   "cell_type": "code",
   "execution_count": 58,
   "id": "ccef1728",
   "metadata": {},
   "outputs": [
    {
     "data": {
      "text/plain": [
       "False"
      ]
     },
     "execution_count": 58,
     "metadata": {},
     "output_type": "execute_result"
    }
   ],
   "source": [
    "copy_of_new_np_city is new_np_city"
   ]
  },
  {
   "cell_type": "code",
   "execution_count": 59,
   "id": "944c9d29",
   "metadata": {},
   "outputs": [],
   "source": [
    "copy_of_new_np_city[2] = 'LPU'"
   ]
  },
  {
   "cell_type": "code",
   "execution_count": 60,
   "id": "0a83442b",
   "metadata": {},
   "outputs": [
    {
     "data": {
      "text/plain": [
       "array(['NYC', 'LA', 'Miami', 'Central'], dtype='<U7')"
      ]
     },
     "execution_count": 60,
     "metadata": {},
     "output_type": "execute_result"
    }
   ],
   "source": [
    "new_np_city"
   ]
  },
  {
   "cell_type": "code",
   "execution_count": 61,
   "id": "569edd0a",
   "metadata": {},
   "outputs": [
    {
     "data": {
      "text/plain": [
       "array(['NYC', 'LA', 'LPU', 'Central'], dtype='<U7')"
      ]
     },
     "execution_count": 61,
     "metadata": {},
     "output_type": "execute_result"
    }
   ],
   "source": [
    "copy_of_new_np_city"
   ]
  },
  {
   "cell_type": "code",
   "execution_count": 64,
   "id": "a869d8a4",
   "metadata": {},
   "outputs": [
    {
     "name": "stdout",
     "output_type": "stream",
     "text": [
      "[4 2 3]\n"
     ]
    }
   ],
   "source": [
    "#Ufunc\n",
    "#sqrt, cos, floor, exp\n",
    "np_sqrt = np.sqrt([16, 4, 9])\n",
    "#print(np_distance)\n",
    "print(np_sqrt.astype(int))"
   ]
  },
  {
   "cell_type": "code",
   "execution_count": 65,
   "id": "0c2e7975",
   "metadata": {},
   "outputs": [
    {
     "data": {
      "text/plain": [
       "1.0"
      ]
     },
     "execution_count": 65,
     "metadata": {},
     "output_type": "execute_result"
    }
   ],
   "source": [
    "np.cos(0)"
   ]
  },
  {
   "cell_type": "code",
   "execution_count": 69,
   "id": "e3d65bb1",
   "metadata": {},
   "outputs": [],
   "source": [
    "from numpy import pi"
   ]
  },
  {
   "cell_type": "code",
   "execution_count": 70,
   "id": "18f0bcb5",
   "metadata": {},
   "outputs": [
    {
     "data": {
      "text/plain": [
       "1.0"
      ]
     },
     "execution_count": 70,
     "metadata": {},
     "output_type": "execute_result"
    }
   ],
   "source": [
    "np.sin(pi/2)"
   ]
  },
  {
   "cell_type": "code",
   "execution_count": 71,
   "id": "fa111a94",
   "metadata": {},
   "outputs": [
    {
     "data": {
      "text/plain": [
       "-1.0"
      ]
     },
     "execution_count": 71,
     "metadata": {},
     "output_type": "execute_result"
    }
   ],
   "source": [
    "np.cos(pi)"
   ]
  },
  {
   "cell_type": "code",
   "execution_count": 73,
   "id": "ce8a5395",
   "metadata": {},
   "outputs": [
    {
     "data": {
      "text/plain": [
       "array([1, 2, 3])"
      ]
     },
     "execution_count": 73,
     "metadata": {},
     "output_type": "execute_result"
    }
   ],
   "source": [
    "np.floor([1.5, 2.6, 3.6]).astype(int)"
   ]
  },
  {
   "cell_type": "code",
   "execution_count": 74,
   "id": "96a44369",
   "metadata": {},
   "outputs": [
    {
     "data": {
      "text/plain": [
       "array([1.        , 2.71828183, 7.3890561 ])"
      ]
     },
     "execution_count": 74,
     "metadata": {},
     "output_type": "execute_result"
    }
   ],
   "source": [
    "np.exp([0, 1, 2])"
   ]
  },
  {
   "cell_type": "code",
   "execution_count": null,
   "id": "2ea015c1",
   "metadata": {},
   "outputs": [],
   "source": [
    "#Shape Manipulation\n",
    "#ravel, Split, flatten, resize, reshape, stack"
   ]
  },
  {
   "cell_type": "code",
   "execution_count": 76,
   "id": "79f6d91c",
   "metadata": {},
   "outputs": [
    {
     "data": {
      "text/plain": [
       "array([[10, 15, 17, 26],\n",
       "       [12, 11, 21, 24]])"
      ]
     },
     "execution_count": 76,
     "metadata": {},
     "output_type": "execute_result"
    }
   ],
   "source": [
    "cyclist_trails"
   ]
  },
  {
   "cell_type": "code",
   "execution_count": 79,
   "id": "bb4e158c",
   "metadata": {},
   "outputs": [
    {
     "data": {
      "text/plain": [
       "array([10, 15, 17, 26, 12, 11, 21, 24])"
      ]
     },
     "execution_count": 79,
     "metadata": {},
     "output_type": "execute_result"
    }
   ],
   "source": [
    "#Falttening of array\n",
    "new_oneD_array = cyclist_trails.flatten()\n",
    "new_oneD_array"
   ]
  },
  {
   "cell_type": "code",
   "execution_count": 80,
   "id": "598a3166",
   "metadata": {},
   "outputs": [
    {
     "data": {
      "text/plain": [
       "1"
      ]
     },
     "execution_count": 80,
     "metadata": {},
     "output_type": "execute_result"
    }
   ],
   "source": [
    "new_oneD_array.ndim"
   ]
  },
  {
   "cell_type": "code",
   "execution_count": 84,
   "id": "924e412c",
   "metadata": {},
   "outputs": [
    {
     "data": {
      "text/plain": [
       "array([[10, 15, 17, 26],\n",
       "       [12, 11, 21, 24]])"
      ]
     },
     "execution_count": 84,
     "metadata": {},
     "output_type": "execute_result"
    }
   ],
   "source": [
    "new_oneD_array.reshape(2, 4)"
   ]
  },
  {
   "cell_type": "code",
   "execution_count": 98,
   "id": "e8851180",
   "metadata": {},
   "outputs": [],
   "source": [
    "a, b = np.hsplit(new_oneD_array, 2)"
   ]
  },
  {
   "cell_type": "code",
   "execution_count": 90,
   "id": "651f51f5",
   "metadata": {},
   "outputs": [
    {
     "data": {
      "text/plain": [
       "array([10, 15, 17, 26, 12, 11, 21, 24, 10, 15, 17, 26, 12, 11, 21, 24])"
      ]
     },
     "execution_count": 90,
     "metadata": {},
     "output_type": "execute_result"
    }
   ],
   "source": [
    "np.hstack((new_oneD_array, new_oneD_array))"
   ]
  },
  {
   "cell_type": "code",
   "execution_count": 96,
   "id": "0b293aef",
   "metadata": {},
   "outputs": [
    {
     "data": {
      "text/plain": [
       "array([10, 15, 17, 26])"
      ]
     },
     "execution_count": 96,
     "metadata": {},
     "output_type": "execute_result"
    }
   ],
   "source": [
    "a"
   ]
  },
  {
   "cell_type": "code",
   "execution_count": 97,
   "id": "589ea77d",
   "metadata": {},
   "outputs": [
    {
     "data": {
      "text/plain": [
       "array([12, 11, 21, 24])"
      ]
     },
     "execution_count": 97,
     "metadata": {},
     "output_type": "execute_result"
    }
   ],
   "source": [
    "b"
   ]
  },
  {
   "cell_type": "code",
   "execution_count": 99,
   "id": "39da9d1e",
   "metadata": {},
   "outputs": [
    {
     "data": {
      "text/plain": [
       "array([22, 26, 38, 50])"
      ]
     },
     "execution_count": 99,
     "metadata": {},
     "output_type": "execute_result"
    }
   ],
   "source": [
    "a + b"
   ]
  },
  {
   "cell_type": "code",
   "execution_count": 94,
   "id": "c2612b3e",
   "metadata": {},
   "outputs": [
    {
     "data": {
      "text/plain": [
       "array([21, 24])"
      ]
     },
     "execution_count": 94,
     "metadata": {},
     "output_type": "execute_result"
    }
   ],
   "source": [
    "d"
   ]
  },
  {
   "cell_type": "code",
   "execution_count": null,
   "id": "d5f52af9",
   "metadata": {},
   "outputs": [],
   "source": []
  }
 ],
 "metadata": {
  "kernelspec": {
   "display_name": "Python 3",
   "language": "python",
   "name": "python3"
  },
  "language_info": {
   "codemirror_mode": {
    "name": "ipython",
    "version": 3
   },
   "file_extension": ".py",
   "mimetype": "text/x-python",
   "name": "python",
   "nbconvert_exporter": "python",
   "pygments_lexer": "ipython3",
   "version": "3.8.8"
  }
 },
 "nbformat": 4,
 "nbformat_minor": 5
}
