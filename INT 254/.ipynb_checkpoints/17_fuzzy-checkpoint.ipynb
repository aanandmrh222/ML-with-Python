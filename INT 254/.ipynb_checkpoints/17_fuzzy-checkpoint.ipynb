{
 "cells": [
  {
   "cell_type": "code",
   "execution_count": 4,
   "id": "52b7a2c0",
   "metadata": {},
   "outputs": [
    {
     "ename": "ModuleNotFoundError",
     "evalue": "No module named 'skfuzzy'",
     "output_type": "error",
     "traceback": [
      "\u001b[1;31m---------------------------------------------------------------------------\u001b[0m",
      "\u001b[1;31mModuleNotFoundError\u001b[0m                       Traceback (most recent call last)",
      "Cell \u001b[1;32mIn[4], line 2\u001b[0m\n\u001b[0;32m      1\u001b[0m \u001b[38;5;28;01mimport\u001b[39;00m \u001b[38;5;21;01mnumpy\u001b[39;00m \u001b[38;5;28;01mas\u001b[39;00m \u001b[38;5;21;01mnp\u001b[39;00m\n\u001b[1;32m----> 2\u001b[0m \u001b[38;5;28;01mimport\u001b[39;00m \u001b[38;5;21;01mskfuzzy\u001b[39;00m \u001b[38;5;28;01mas\u001b[39;00m \u001b[38;5;21;01mfuzz\u001b[39;00m\n\u001b[0;32m      3\u001b[0m \u001b[38;5;28;01mfrom\u001b[39;00m \u001b[38;5;21;01mskfuzzy\u001b[39;00m \u001b[38;5;28;01mimport\u001b[39;00m control \u001b[38;5;28;01mas\u001b[39;00m ctrl\n",
      "\u001b[1;31mModuleNotFoundError\u001b[0m: No module named 'skfuzzy'"
     ]
    }
   ],
   "source": [
    "import numpy as np\n",
    "import skfuzzy as fuzz\n",
    "from skfuzzy import control as ctrl "
   ]
  },
  {
   "cell_type": "code",
   "execution_count": null,
   "id": "ed5eb48c",
   "metadata": {},
   "outputs": [],
   "source": [
    "# Define membership functions\n",
    "temperature['cold'] = fuzz.trimf(temperature.universe, [0, 0, 50])\n",
    "temperature['medium'] = fuzz.trimf(temperature.universe, [20, 50, 80])\n",
    "temperature['hot'] = fuzz.trimf(temperature.universe, [50, 100, 100])"
   ]
  },
  {
   "cell_type": "code",
   "execution_count": null,
   "id": "99aed86e",
   "metadata": {},
   "outputs": [],
   "source": [
    "humidity['dry'] = fuzz.trimf(humidity.universe, [0, 0, 50])\n",
    "humidity['normal'] = fuzz.trimf(humidity.universe, [20, 50, 80])\n",
    "humidity['humid'] = fuzz.trimf(humidity.universe, [50, 100, 100])\n",
    "\n",
    "fan_speed['low'] = fuzz.trimf(fan_speed.universe, [0,0,50])\n",
    "fan_speed['medium'] = fuzz.trimf(fan_speed.universe, [20,50,80])\n",
    "fan_speed['high'] = fuzz.trimf(fan_speed.universe, [50,100,100])\n",
    "\n",
    "s"
   ]
  }
 ],
 "metadata": {
  "kernelspec": {
   "display_name": "Python 3 (ipykernel)",
   "language": "python",
   "name": "python3"
  },
  "language_info": {
   "codemirror_mode": {
    "name": "ipython",
    "version": 3
   },
   "file_extension": ".py",
   "mimetype": "text/x-python",
   "name": "python",
   "nbconvert_exporter": "python",
   "pygments_lexer": "ipython3",
   "version": "3.11.5"
  }
 },
 "nbformat": 4,
 "nbformat_minor": 5
}
