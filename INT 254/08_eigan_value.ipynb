{
 "cells": [
  {
   "cell_type": "code",
   "execution_count": 1,
   "metadata": {
    "id": "nwsiJfmQ38gZ"
   },
   "outputs": [],
   "source": [
    "import numpy as np"
   ]
  },
  {
   "cell_type": "code",
   "execution_count": 2,
   "metadata": {
    "colab": {
     "base_uri": "https://localhost:8080/"
    },
    "id": "jzcZRQSwNqqj",
    "outputId": "fc0ffa09-617e-4b2d-f444-8c457dbcf23c"
   },
   "outputs": [
    {
     "name": "stdout",
     "output_type": "stream",
     "text": [
      "E-value: [ 6. -5.]\n",
      "E-vector: [[0.         0.7739573 ]\n",
      " [1.         0.63323779]]\n"
     ]
    }
   ],
   "source": [
    "# from numpy.Linalg import eig\n",
    "a = np.array([[-5, 0],\n",
    "              [-9, 6]])\n",
    "w, v = np.linalg.eig(a)\n",
    "print(\"E-value:\",w)\n",
    "print(\"E-vector:\",v)"
   ]
  }
 ],
 "metadata": {
  "colab": {
   "provenance": []
  },
  "kernelspec": {
   "display_name": "Python 3 (ipykernel)",
   "language": "python",
   "name": "python3"
  },
  "language_info": {
   "codemirror_mode": {
    "name": "ipython",
    "version": 3
   },
   "file_extension": ".py",
   "mimetype": "text/x-python",
   "name": "python",
   "nbconvert_exporter": "python",
   "pygments_lexer": "ipython3",
   "version": "3.12.1"
  }
 },
 "nbformat": 4,
 "nbformat_minor": 4
}
