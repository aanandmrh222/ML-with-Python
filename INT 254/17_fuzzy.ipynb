{
 "cells": [
  {
   "cell_type": "code",
   "execution_count": null,
   "id": "99e8a10c",
   "metadata": {},
   "outputs": [],
   "source": [
    "pip install scikit-fuzzy"
   ]
  },
  {
   "cell_type": "code",
   "execution_count": 2,
   "id": "96874724",
   "metadata": {},
   "outputs": [
    {
     "name": "stdout",
     "output_type": "stream",
     "text": [
      "Enter the Temperature: 5\n",
      "Enter the humidity: 65\n",
      "Fan Speed: 40.74139104396359\n"
     ]
    }
   ],
   "source": [
    "import numpy as np\n",
    "import skfuzzy as fuzz\n",
    "from skfuzzy import control as ctrl\n",
    "\n",
    "# Define Fuzzy Variables\n",
    "temperature = ctrl.Antecedent(np.arange(0,101,1),'temperature')\n",
    "humidity=ctrl.Antecedent(np.arange(0,101,1),'humidity')\n",
    "fan_Speed=ctrl.Consequent(np.arange(0,101,1),'fan_speed')\n",
    "\n",
    "# Define Membership Function\n",
    "temperature['cold']=fuzz.trimf(temperature.universe,[0,0,50]) # Triangular Membership Function: trimf\n",
    "temperature['medium']=fuzz.trimf(temperature.universe,[20,50,80])\n",
    "temperature['hot']=fuzz.trimf(temperature.universe,[50,100,100])\n",
    "\n",
    "humidity['dry']=fuzz.trimf(humidity.universe,[0,0,50])\n",
    "humidity['normal']=fuzz.trimf(humidity.universe,[20,50,80])\n",
    "humidity['humid']=fuzz.trimf(humidity.universe,[50,100,100])\n",
    "\n",
    "fan_Speed['low']=fuzz.trimf(fan_Speed.universe,[0,0,50])\n",
    "fan_Speed['medium']=fuzz.trimf(fan_Speed.universe,[20,50,80])\n",
    "fan_Speed['high']=fuzz.trimf(fan_Speed.universe,[50,100,100])\n",
    "\n",
    "# Defining Fuzzy Rules\n",
    "rule1=ctrl.Rule(temperature['cold']|humidity['dry'],fan_Speed['low'])\n",
    "rule2=ctrl.Rule(temperature['medium']|humidity['normal'],fan_Speed['medium'])\n",
    "rule3=ctrl.Rule(temperature['hot']|humidity['humid'],fan_Speed['high'])\n",
    "\n",
    "# Create Fuzzy Inference System:FIS\n",
    "fis=ctrl.ControlSystem([rule1,rule2,rule3])\n",
    "fan_speed_ctrl=ctrl.ControlSystemSimulation(fis)\n",
    "\n",
    "temp=float(input(\"Enter the Temperature: \"))\n",
    "hum=float(input(\"Enter the humidity: \"))\n",
    "\n",
    "# Pass input to the FIS and compute the output\n",
    "fan_speed_ctrl.input['temperature']=temp\n",
    "fan_speed_ctrl.input['humidity']=hum\n",
    "fan_speed_ctrl.compute()\n",
    "\n",
    "# Printing Output\n",
    "print(\"Fan Speed:\",fan_speed_ctrl.output['fan_speed'])"
   ]
  },
  {
   "cell_type": "code",
   "execution_count": null,
   "id": "f7ddf288",
   "metadata": {},
   "outputs": [],
   "source": []
  },
  {
   "cell_type": "code",
   "execution_count": null,
   "id": "8fda1476",
   "metadata": {},
   "outputs": [],
   "source": []
  }
 ],
 "metadata": {
  "kernelspec": {
   "display_name": "Python 3 (ipykernel)",
   "language": "python",
   "name": "python3"
  },
  "language_info": {
   "codemirror_mode": {
    "name": "ipython",
    "version": 3
   },
   "file_extension": ".py",
   "mimetype": "text/x-python",
   "name": "python",
   "nbconvert_exporter": "python",
   "pygments_lexer": "ipython3",
   "version": "3.11.5"
  }
 },
 "nbformat": 4,
 "nbformat_minor": 5
}
