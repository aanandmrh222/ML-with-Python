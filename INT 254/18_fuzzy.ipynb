{
 "cells": [
  {
   "cell_type": "code",
   "execution_count": null,
   "metadata": {},
   "outputs": [],
   "source": [
    "pip install scikit-fuzzy"
   ]
  },
  {
   "cell_type": "code",
   "execution_count": 3,
   "metadata": {},
   "outputs": [],
   "source": [
    "import numpy as np\n",
    "import skfuzzy as fuzz\n",
    "from skfuzzy import control as ctrl"
   ]
  },
  {
   "cell_type": "code",
   "execution_count": 6,
   "metadata": {},
   "outputs": [
    {
     "name": "stdout",
     "output_type": "stream",
     "text": [
      "Enter service rating:3\n",
      "Enter quality rating:2\n",
      "Tip percentage: 10.838361131254533\n"
     ]
    }
   ],
   "source": [
    "# Define fuzzy variables\n",
    "service = ctrl.Antecedent(np.arange(0, 11, 1),\n",
    "'service')\n",
    "quality = ctrl.Antecedent(np.arange(0, 11, 1),\n",
    "'quality')\n",
    "tip = ctrl.Consequent(np.arange(0, 26, 1),\n",
    "'tip')\n",
    "\n",
    "# Define membership functions\n",
    "'''service['poor'] = fuzz.trimf(service.universe,\n",
    "[0, 0, 3])\n",
    "service['average'] = fuzz.trimf(service.universe,\n",
    "[2, 5, 8])\n",
    "service['good'] = fuzz.trimf(service.universe,\n",
    "[5, 10, 10])\n",
    "\n",
    "quality['poor'] = fuzz.trimf(quality.universe,\n",
    "[0, 0, 4])\n",
    "quality['average'] = fuzz.trimf(quality.universe,\n",
    "[3, 5, 8])\n",
    "quality['good'] = fuzz.trimf(quality.universe,\n",
    "[5, 10, 10])'''\n",
    "service.automf(3)\n",
    "quality.automf(3)\n",
    "\n",
    "tip['low'] = fuzz.trimf(tip.universe, [0, 0, 13])\n",
    "tip['medium'] = fuzz.trimf(tip.universe, [0, 13, 25])\n",
    "tip['high'] = fuzz.trimf(tip.universe, [13, 25, 25])\n",
    "\n",
    "# Define fuzzy rules\n",
    "rule1 = ctrl.Rule(service['poor'] | quality['poor'],\n",
    "tip['low'])\n",
    "rule2 = ctrl.Rule(service['average'] | quality['average'],\n",
    "tip['medium'])\n",
    "rule3 = ctrl.Rule(service['good'] | quality['good'],\n",
    "tip['high'])\n",
    "\n",
    "# Create the FIS\n",
    "fis = ctrl.ControlSystem([rule1, rule2, rule3])\n",
    "tip_per = ctrl.ControlSystemSimulation(fis)\n",
    "\n",
    "# Pass inputs to the FIS and compute the output\n",
    "tip_per.input['service'] = float(input(\"Enter service rating:\"))\n",
    "tip_per.input['quality'] = float(input(\"Enter quality rating:\"))\n",
    "tip_per.compute()\n",
    "\n",
    "# Print the output\n",
    "print(\"Tip percentage:\", tip_per.output['tip'])"
   ]
  },
  {
   "cell_type": "code",
   "execution_count": null,
   "metadata": {},
   "outputs": [],
   "source": []
  },
  {
   "cell_type": "code",
   "execution_count": null,
   "metadata": {},
   "outputs": [],
   "source": []
  }
 ],
 "metadata": {
  "kernelspec": {
   "display_name": "Python 3 (ipykernel)",
   "language": "python",
   "name": "python3"
  },
  "language_info": {
   "codemirror_mode": {
    "name": "ipython",
    "version": 3
   },
   "file_extension": ".py",
   "mimetype": "text/x-python",
   "name": "python",
   "nbconvert_exporter": "python",
   "pygments_lexer": "ipython3",
   "version": "3.11.5"
  }
 },
 "nbformat": 4,
 "nbformat_minor": 2
}
