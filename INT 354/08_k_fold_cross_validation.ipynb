{
  "nbformat": 4,
  "nbformat_minor": 0,
  "metadata": {
    "colab": {
      "name": "K fold cross validation.ipynb",
      "provenance": [],
      "collapsed_sections": []
    },
    "kernelspec": {
      "name": "python3",
      "display_name": "Python 3"
    },
    "language_info": {
      "name": "python"
    }
  },
  "cells": [
    {
      "cell_type": "code",
      "execution_count": 1,
      "metadata": {
        "id": "zkvXhXr3XCAp"
      },
      "outputs": [],
      "source": [
        "from sklearn.datasets import load_iris\n",
        "dataset=load_iris()\n",
        "x=dataset.data\n",
        "y=dataset.target"
      ]
    },
    {
      "cell_type": "code",
      "source": [
        "from sklearn.model_selection import train_test_split\n",
        "x_train,x_test,y_train,y_test=train_test_split(x,y,test_size=0.3)\n",
        "x_val,x_test, y_val,y_test=train_test_split(x_test,y_test,test_size=0.5)"
      ],
      "metadata": {
        "id": "UwOn-BgUYQmt"
      },
      "execution_count": 4,
      "outputs": []
    },
    {
      "cell_type": "code",
      "source": [
        "from sklearn.decomposition import PCA\n",
        "from sklearn.preprocessing import StandardScaler\n",
        "from sklearn.linear_model import Perceptron\n",
        "from sklearn.pipeline import Pipeline"
      ],
      "metadata": {
        "id": "R81Eb7v8ZGjv"
      },
      "execution_count": 5,
      "outputs": []
    },
    {
      "cell_type": "code",
      "source": [
        "p=Pipeline([('sc',StandardScaler()),('pca1',PCA(n_components=2)),('p',Perceptron(penalty='l2'))])"
      ],
      "metadata": {
        "id": "SRnuBjsMaCHa"
      },
      "execution_count": 8,
      "outputs": []
    },
    {
      "cell_type": "code",
      "source": [
        "p.fit(x_train,y_train)"
      ],
      "metadata": {
        "colab": {
          "base_uri": "https://localhost:8080/"
        },
        "id": "qX6wUydpaXRl",
        "outputId": "768b602e-0018-4ad6-8f31-c705f14e4174"
      },
      "execution_count": 9,
      "outputs": [
        {
          "output_type": "execute_result",
          "data": {
            "text/plain": [
              "Pipeline(steps=[('sc', StandardScaler()), ('pca1', PCA(n_components=2)),\n",
              "                ('p', Perceptron(penalty='l2'))])"
            ]
          },
          "metadata": {},
          "execution_count": 9
        }
      ]
    },
    {
      "cell_type": "code",
      "source": [
        "train_pred1=p.predict(x_train)\n",
        "val_pred1=p.predict(x_val)\n",
        "from sklearn.metrics import accuracy_score\n",
        "print(\"Training Accuracy:\", accuracy_score(train_pred1,y_train))\n",
        "print(\"Validation Accuracy: \", accuracy_score(val_pred1,y_val))"
      ],
      "metadata": {
        "colab": {
          "base_uri": "https://localhost:8080/"
        },
        "id": "_Kq-R06Gbqqh",
        "outputId": "48d71bd7-05e8-43e9-d1de-7da610104eed"
      },
      "execution_count": 10,
      "outputs": [
        {
          "output_type": "stream",
          "name": "stdout",
          "text": [
            "Training Accuracy: 0.7428571428571429\n",
            "Validation Accuracy:  0.7272727272727273\n"
          ]
        }
      ]
    },
    {
      "cell_type": "code",
      "source": [
        "p1=Pipeline([('sc',StandardScaler()),('pca1',PCA(n_components=3)),('p',Perceptron(penalty='l2'))])"
      ],
      "metadata": {
        "id": "EOUUew83cIak"
      },
      "execution_count": 11,
      "outputs": []
    },
    {
      "cell_type": "code",
      "source": [
        "p1.fit(x_train,y_train)"
      ],
      "metadata": {
        "colab": {
          "base_uri": "https://localhost:8080/"
        },
        "id": "MbjuIKHVdOmk",
        "outputId": "30c2f251-340f-4e43-f0c0-414f755d8413"
      },
      "execution_count": 12,
      "outputs": [
        {
          "output_type": "execute_result",
          "data": {
            "text/plain": [
              "Pipeline(steps=[('sc', StandardScaler()), ('pca1', PCA(n_components=3)),\n",
              "                ('p', Perceptron(penalty='l2'))])"
            ]
          },
          "metadata": {},
          "execution_count": 12
        }
      ]
    },
    {
      "cell_type": "code",
      "source": [
        "train_pred2=p1.predict(x_train)\n",
        "val_pred2=p1.predict(x_val)\n",
        "from sklearn.metrics import accuracy_score\n",
        "print(\"Training Accuracy:\", accuracy_score(train_pred2,y_train))\n",
        "print(\"Validation Accuracy: \", accuracy_score(val_pred2,y_val))"
      ],
      "metadata": {
        "colab": {
          "base_uri": "https://localhost:8080/"
        },
        "id": "DGL8yj_-dR9f",
        "outputId": "0a42fafd-d5d1-473f-e8d7-971a9dc2f64a"
      },
      "execution_count": 13,
      "outputs": [
        {
          "output_type": "stream",
          "name": "stdout",
          "text": [
            "Training Accuracy: 0.8666666666666667\n",
            "Validation Accuracy:  0.9545454545454546\n"
          ]
        }
      ]
    },
    {
      "cell_type": "code",
      "source": [
        "p2=Pipeline([('sc',StandardScaler()),('pca1',PCA(n_components=3)),('p',Perceptron(penalty='l1'))])"
      ],
      "metadata": {
        "id": "HuJcx-E7dW4d"
      },
      "execution_count": 14,
      "outputs": []
    },
    {
      "cell_type": "code",
      "source": [
        "p2.fit(x_train,y_train)"
      ],
      "metadata": {
        "colab": {
          "base_uri": "https://localhost:8080/"
        },
        "id": "Qd7gRZMqdghI",
        "outputId": "c2e37f8d-7428-48f7-b6d6-2d973636f162"
      },
      "execution_count": 15,
      "outputs": [
        {
          "output_type": "execute_result",
          "data": {
            "text/plain": [
              "Pipeline(steps=[('sc', StandardScaler()), ('pca1', PCA(n_components=3)),\n",
              "                ('p', Perceptron(penalty='l1'))])"
            ]
          },
          "metadata": {},
          "execution_count": 15
        }
      ]
    },
    {
      "cell_type": "code",
      "source": [
        "train_pred3=p2.predict(x_train)\n",
        "val_pred3=p2.predict(x_val)\n",
        "from sklearn.metrics import accuracy_score\n",
        "print(\"Training Accuracy:\", accuracy_score(train_pred3,y_train))\n",
        "print(\"Validation Accuracy: \", accuracy_score(val_pred3,y_val))"
      ],
      "metadata": {
        "colab": {
          "base_uri": "https://localhost:8080/"
        },
        "id": "zQRmedWpdivA",
        "outputId": "3e6c3aae-78f5-4e0e-cf00-3afb1a81edff"
      },
      "execution_count": 16,
      "outputs": [
        {
          "output_type": "stream",
          "name": "stdout",
          "text": [
            "Training Accuracy: 0.7904761904761904\n",
            "Validation Accuracy:  0.8181818181818182\n"
          ]
        }
      ]
    },
    {
      "cell_type": "code",
      "source": [
        "#make use of LDA (components =2), penalty is L1 and L2"
      ],
      "metadata": {
        "id": "j3DpxINNdoP4"
      },
      "execution_count": 17,
      "outputs": []
    },
    {
      "cell_type": "code",
      "source": [
        "from sklearn.discriminant_analysis import LinearDiscriminantAnalysis as LDA\n",
        "p3=Pipeline([('sc',StandardScaler()),('lda',LDA(n_components=2)),('p',Perceptron(penalty='l1'))])"
      ],
      "metadata": {
        "id": "ZoN5XWz1ewOk"
      },
      "execution_count": 18,
      "outputs": []
    },
    {
      "cell_type": "code",
      "source": [
        "p3.fit(x_train,y_train)"
      ],
      "metadata": {
        "colab": {
          "base_uri": "https://localhost:8080/"
        },
        "id": "U2Rdi_FUfdMV",
        "outputId": "5dbb46b7-d839-42d7-9bcb-9823e35d1f94"
      },
      "execution_count": 19,
      "outputs": [
        {
          "output_type": "execute_result",
          "data": {
            "text/plain": [
              "Pipeline(steps=[('sc', StandardScaler()),\n",
              "                ('lda', LinearDiscriminantAnalysis(n_components=2)),\n",
              "                ('p', Perceptron(penalty='l1'))])"
            ]
          },
          "metadata": {},
          "execution_count": 19
        }
      ]
    },
    {
      "cell_type": "code",
      "source": [
        "train_pred4=p3.predict(x_train)\n",
        "val_pred4=p3.predict(x_val)\n",
        "from sklearn.metrics import accuracy_score\n",
        "print(\"Training Accuracy:\", accuracy_score(train_pred4,y_train))\n",
        "print(\"Validation Accuracy: \", accuracy_score(val_pred4,y_val))"
      ],
      "metadata": {
        "colab": {
          "base_uri": "https://localhost:8080/"
        },
        "id": "ELIcFNttffhQ",
        "outputId": "9aa48fba-2f11-4cda-e262-f112fe66cc7d"
      },
      "execution_count": 20,
      "outputs": [
        {
          "output_type": "stream",
          "name": "stdout",
          "text": [
            "Training Accuracy: 0.7142857142857143\n",
            "Validation Accuracy:  0.5909090909090909\n"
          ]
        }
      ]
    },
    {
      "cell_type": "code",
      "source": [
        "p4=Pipeline([('sc',StandardScaler()),('lda',LDA(n_components=2)),('p',Perceptron(penalty='l2'))])"
      ],
      "metadata": {
        "id": "APjYzAxvfnAr"
      },
      "execution_count": 22,
      "outputs": []
    },
    {
      "cell_type": "code",
      "source": [
        "p4.fit(x_train,y_train)"
      ],
      "metadata": {
        "colab": {
          "base_uri": "https://localhost:8080/"
        },
        "id": "3vL2p1OcfrIt",
        "outputId": "79e4ad8c-ef86-4e6e-ed79-4020cdc160c2"
      },
      "execution_count": 23,
      "outputs": [
        {
          "output_type": "execute_result",
          "data": {
            "text/plain": [
              "Pipeline(steps=[('sc', StandardScaler()),\n",
              "                ('lda', LinearDiscriminantAnalysis(n_components=2)),\n",
              "                ('p', Perceptron(penalty='l2'))])"
            ]
          },
          "metadata": {},
          "execution_count": 23
        }
      ]
    },
    {
      "cell_type": "code",
      "source": [
        "train_pred5=p4.predict(x_train)\n",
        "val_pred5=p4.predict(x_val)\n",
        "from sklearn.metrics import accuracy_score\n",
        "print(\"Training Accuracy:\", accuracy_score(train_pred5,y_train))\n",
        "print(\"Validation Accuracy: \", accuracy_score(val_pred5,y_val))"
      ],
      "metadata": {
        "colab": {
          "base_uri": "https://localhost:8080/"
        },
        "id": "kW50LVx0fvF0",
        "outputId": "a1b83e21-9f4f-4d29-e65e-2dc275cb2c1c"
      },
      "execution_count": 24,
      "outputs": [
        {
          "output_type": "stream",
          "name": "stdout",
          "text": [
            "Training Accuracy: 0.7047619047619048\n",
            "Validation Accuracy:  0.5909090909090909\n"
          ]
        }
      ]
    },
    {
      "cell_type": "code",
      "source": [
        "#first method of KFold\n",
        "from sklearn.model_selection import KFold"
      ],
      "metadata": {
        "id": "5XXz9Zf5f04F"
      },
      "execution_count": 25,
      "outputs": []
    },
    {
      "cell_type": "code",
      "source": [
        "k=5"
      ],
      "metadata": {
        "id": "jms7UWZdgmV4"
      },
      "execution_count": 26,
      "outputs": []
    },
    {
      "cell_type": "code",
      "source": [
        "kf=KFold(n_splits=k,shuffle=True)"
      ],
      "metadata": {
        "id": "biqpC_f-gokW"
      },
      "execution_count": 28,
      "outputs": []
    },
    {
      "cell_type": "code",
      "source": [
        "acc_score=[]"
      ],
      "metadata": {
        "id": "YJgd_n4Xgu8Q"
      },
      "execution_count": 29,
      "outputs": []
    },
    {
      "cell_type": "code",
      "source": [
        "for train_index,test_index in kf.split(x):\n",
        "  x_train=[]\n",
        "  x_test=[]\n",
        "  y_train=[]\n",
        "  y_test=[]\n",
        "  for i in train_index:\n",
        "    x_train.append(x[i])\n",
        "    y_train.append(y[i])\n",
        "  for i in test_index:\n",
        "    x_test.append(x[i])\n",
        "    y_test.append(y[i])\n",
        "  p.fit(x_train,y_train)\n",
        "  test_pred=p.predict(x_test)\n",
        "  acc_score.append(accuracy_score(test_pred,y_test))"
      ],
      "metadata": {
        "id": "mYgG6uMMg1KF"
      },
      "execution_count": 31,
      "outputs": []
    },
    {
      "cell_type": "code",
      "source": [
        "acc_score"
      ],
      "metadata": {
        "colab": {
          "base_uri": "https://localhost:8080/"
        },
        "id": "P2zg8bsmhlvV",
        "outputId": "f810d95d-dbb8-4b65-9032-a35ed7fa7728"
      },
      "execution_count": 32,
      "outputs": [
        {
          "output_type": "execute_result",
          "data": {
            "text/plain": [
              "[0.9, 0.8666666666666667, 0.8333333333333334, 0.7, 0.9666666666666667]"
            ]
          },
          "metadata": {},
          "execution_count": 32
        }
      ]
    },
    {
      "cell_type": "code",
      "source": [
        "import numpy as np\n",
        "print(\"Accuracy:\", np.average(acc_score))"
      ],
      "metadata": {
        "colab": {
          "base_uri": "https://localhost:8080/"
        },
        "id": "9U-BmUumhyta",
        "outputId": "c120f56e-c29c-4515-8bb1-268f0652b048"
      },
      "execution_count": 33,
      "outputs": [
        {
          "output_type": "stream",
          "name": "stdout",
          "text": [
            "Accuracy: 0.8533333333333333\n"
          ]
        }
      ]
    },
    {
      "cell_type": "code",
      "source": [
        "#second method of Kfold\n",
        "from sklearn.model_selection import cross_val_score"
      ],
      "metadata": {
        "id": "jIzR9kShh9vA"
      },
      "execution_count": 34,
      "outputs": []
    },
    {
      "cell_type": "code",
      "source": [
        "k=5"
      ],
      "metadata": {
        "id": "Qu51ChnHjfzP"
      },
      "execution_count": 35,
      "outputs": []
    },
    {
      "cell_type": "code",
      "source": [
        "kf=KFold(n_splits=5,shuffle=True)"
      ],
      "metadata": {
        "id": "-medsuLtjhG2"
      },
      "execution_count": 36,
      "outputs": []
    },
    {
      "cell_type": "code",
      "source": [
        "result=cross_val_score(p,x,y,cv=kf)"
      ],
      "metadata": {
        "id": "6yhvjx0ijlt9"
      },
      "execution_count": 37,
      "outputs": []
    },
    {
      "cell_type": "code",
      "source": [
        "print(result)"
      ],
      "metadata": {
        "colab": {
          "base_uri": "https://localhost:8080/"
        },
        "id": "DV_UpGuMjvLX",
        "outputId": "4171eaf0-7bf3-42c0-ea28-ce4e0fde0abd"
      },
      "execution_count": 38,
      "outputs": [
        {
          "output_type": "stream",
          "name": "stdout",
          "text": [
            "[0.73333333 0.83333333 0.83333333 0.76666667 0.8       ]\n"
          ]
        }
      ]
    },
    {
      "cell_type": "code",
      "source": [
        "import numpy as np\n",
        "print(\"Accuracy:\", np.average(acc_score))"
      ],
      "metadata": {
        "colab": {
          "base_uri": "https://localhost:8080/"
        },
        "id": "Gy8E5KrtjwvI",
        "outputId": "6dc735e8-ca46-4f25-a77e-a1e92080f75c"
      },
      "execution_count": 39,
      "outputs": [
        {
          "output_type": "stream",
          "name": "stdout",
          "text": [
            "Accuracy: 0.8533333333333333\n"
          ]
        }
      ]
    },
    {
      "cell_type": "code",
      "source": [
        ""
      ],
      "metadata": {
        "id": "KaVamCqZj-x9"
      },
      "execution_count": null,
      "outputs": []
    }
  ]
}