{
  "nbformat": 4,
  "nbformat_minor": 0,
  "metadata": {
    "colab": {
      "name": "Grid Search",
      "provenance": []
    },
    "kernelspec": {
      "name": "python3",
      "display_name": "Python 3"
    },
    "language_info": {
      "name": "python"
    }
  },
  "cells": [
    {
      "cell_type": "code",
      "execution_count": 1,
      "metadata": {
        "id": "xCbbMtzbiSD6"
      },
      "outputs": [],
      "source": [
        "from sklearn.datasets import load_iris\n",
        "dataset=load_iris()\n",
        "x=dataset.data\n",
        "y=dataset.target"
      ]
    },
    {
      "cell_type": "code",
      "source": [
        "from sklearn.model_selection import train_test_split\n",
        "x_train, x_test, y_train, y_test=train_test_split(x,y, test_size=0.3)"
      ],
      "metadata": {
        "id": "-7BPtw1yib3Z"
      },
      "execution_count": 2,
      "outputs": []
    },
    {
      "cell_type": "code",
      "source": [
        "from sklearn.svm import SVC\n",
        "from sklearn.model_selection import GridSearchCV"
      ],
      "metadata": {
        "id": "JTDLsOQtiqvt"
      },
      "execution_count": 3,
      "outputs": []
    },
    {
      "cell_type": "code",
      "source": [
        "model=SVC()\n",
        "parameters={'kernel':('linear', 'rbf', 'poly'), 'C':[1, 4, 10], 'gamma':[0.25, 0.5, 1, 2, 3]}"
      ],
      "metadata": {
        "id": "tR8VetVgi2Wp"
      },
      "execution_count": 4,
      "outputs": []
    },
    {
      "cell_type": "code",
      "source": [
        "clf=GridSearchCV(model, param_grid=parameters)"
      ],
      "metadata": {
        "id": "72z3eKJWjErF"
      },
      "execution_count": 5,
      "outputs": []
    },
    {
      "cell_type": "code",
      "source": [
        "train_model=clf.fit(x_train, y_train)"
      ],
      "metadata": {
        "id": "FcFZ8bswjWQ0"
      },
      "execution_count": 6,
      "outputs": []
    },
    {
      "cell_type": "code",
      "source": [
        "clf.best_score_"
      ],
      "metadata": {
        "colab": {
          "base_uri": "https://localhost:8080/"
        },
        "id": "7Ai_P82Mja-l",
        "outputId": "cfe78412-4dec-4258-d7e4-bf7fd5fd0c7c"
      },
      "execution_count": 7,
      "outputs": [
        {
          "output_type": "execute_result",
          "data": {
            "text/plain": [
              "0.9904761904761905"
            ]
          },
          "metadata": {},
          "execution_count": 7
        }
      ]
    },
    {
      "cell_type": "code",
      "source": [
        "clf.best_estimator_"
      ],
      "metadata": {
        "colab": {
          "base_uri": "https://localhost:8080/"
        },
        "id": "aKr86FjVjh9F",
        "outputId": "c2c1fcf8-43c6-4fc7-9239-e6f8b3956c31"
      },
      "execution_count": 8,
      "outputs": [
        {
          "output_type": "execute_result",
          "data": {
            "text/plain": [
              "SVC(C=1, gamma=0.25, kernel='linear')"
            ]
          },
          "metadata": {},
          "execution_count": 8
        }
      ]
    },
    {
      "cell_type": "code",
      "source": [
        "from sklearn.model_selection import cross_val_score"
      ],
      "metadata": {
        "id": "qBd1u-x_jpAw"
      },
      "execution_count": 9,
      "outputs": []
    },
    {
      "cell_type": "code",
      "source": [
        "score=cross_val_score(clf.best_estimator_, x_train, y_train, cv=3, scoring=\"accuracy\")"
      ],
      "metadata": {
        "id": "8d0pgEq4kAIh"
      },
      "execution_count": 10,
      "outputs": []
    },
    {
      "cell_type": "code",
      "source": [
        "print(score)"
      ],
      "metadata": {
        "colab": {
          "base_uri": "https://localhost:8080/"
        },
        "id": "x3bKuuwEkWtX",
        "outputId": "03047137-22c8-4f0c-a169-d3591ad19347"
      },
      "execution_count": 11,
      "outputs": [
        {
          "output_type": "stream",
          "name": "stdout",
          "text": [
            "[0.97142857 0.97142857 0.97142857]\n"
          ]
        }
      ]
    },
    {
      "cell_type": "code",
      "source": [
        "test_score=cross_val_score(clf.best_estimator_, x_test, y_test, cv=3, scoring=\"accuracy\")"
      ],
      "metadata": {
        "id": "7HzwzeQYkYaX"
      },
      "execution_count": 12,
      "outputs": []
    },
    {
      "cell_type": "code",
      "source": [
        "print(test_score)"
      ],
      "metadata": {
        "colab": {
          "base_uri": "https://localhost:8080/"
        },
        "id": "2gfyQh2Lkiwi",
        "outputId": "ece85f4c-b6fe-4ab5-dbb6-cfee661123a7"
      },
      "execution_count": 13,
      "outputs": [
        {
          "output_type": "stream",
          "name": "stdout",
          "text": [
            "[0.93333333 0.93333333 1.        ]\n"
          ]
        }
      ]
    },
    {
      "cell_type": "code",
      "source": [
        ""
      ],
      "metadata": {
        "id": "0OO_oQQWklwb"
      },
      "execution_count": null,
      "outputs": []
    }
  ]
}