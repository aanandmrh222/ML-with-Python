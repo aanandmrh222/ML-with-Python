{
  "nbformat": 4,
  "nbformat_minor": 0,
  "metadata": {
    "colab": {
      "provenance": []
    },
    "kernelspec": {
      "name": "python3",
      "display_name": "Python 3"
    },
    "language_info": {
      "name": "python"
    }
  },
  "cells": [
    {
      "cell_type": "code",
      "execution_count": 3,
      "metadata": {
        "id": "nwsiJfmQ38gZ"
      },
      "outputs": [],
      "source": [
        "import numpy as np"
      ]
    },
    {
      "cell_type": "code",
      "source": [
        "# from numpy.Linalg import eig\n",
        "a = np.array([[-5, 0],\n",
        "              [-9, 6]])\n",
        "w, v = np.linalg.eig(a)\n",
        "print(\"E-value:\",w)\n",
        "print(\"E-vector:\",v)"
      ],
      "metadata": {
        "colab": {
          "base_uri": "https://localhost:8080/"
        },
        "id": "jzcZRQSwNqqj",
        "outputId": "fc0ffa09-617e-4b2d-f444-8c457dbcf23c"
      },
      "execution_count": 6,
      "outputs": [
        {
          "output_type": "stream",
          "name": "stdout",
          "text": [
            "E-value: [ 6. -5.]\n",
            "E-vector: [[0.         0.7739573 ]\n",
            " [1.         0.63323779]]\n"
          ]
        }
      ]
    }
  ]
}