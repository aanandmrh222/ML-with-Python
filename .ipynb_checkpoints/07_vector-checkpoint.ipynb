{
 "cells": [
  {
   "cell_type": "code",
   "execution_count": 1,
   "metadata": {
    "id": "QE_GphTzUO35"
   },
   "outputs": [],
   "source": [
    "import numpy as np"
   ]
  },
  {
   "cell_type": "code",
   "execution_count": 2,
   "metadata": {
    "id": "Cj9sahAfSemJ"
   },
   "outputs": [],
   "source": [
    "# System of linaer equaltions\n",
    "# x + 2y = 8\n",
    "# 5x - 3y = 1"
   ]
  },
  {
   "cell_type": "code",
   "execution_count": 3,
   "metadata": {
    "colab": {
     "base_uri": "https://localhost:8080/"
    },
    "id": "PytrUzkKTVIE",
    "outputId": "b477fc64-424a-4ba3-e5fa-b8f8d29f4940"
   },
   "outputs": [
    {
     "name": "stdout",
     "output_type": "stream",
     "text": [
      "[[0 2]\n",
      " [1 4]]\n"
     ]
    }
   ],
   "source": [
    "A = np.array([[0,2],   # 1st row\n",
    "              [1,4]])  # 2nd row\n",
    "print(A)"
   ]
  },
  {
   "cell_type": "code",
   "execution_count": 4,
   "metadata": {
    "colab": {
     "base_uri": "https://localhost:8080/"
    },
    "id": "aGQRnHw-UmG8",
    "outputId": "0fd73981-5e0c-4ba7-dc9d-6fed261c4605"
   },
   "outputs": [
    {
     "data": {
      "text/plain": [
       "(2, 2)"
      ]
     },
     "execution_count": 4,
     "metadata": {},
     "output_type": "execute_result"
    }
   ],
   "source": [
    "A.shape"
   ]
  },
  {
   "cell_type": "code",
   "execution_count": 5,
   "metadata": {
    "colab": {
     "base_uri": "https://localhost:8080/"
    },
    "id": "JngXXwk8Up3y",
    "outputId": "98d53d09-26a2-427d-e772-e3f4bc955a1c"
   },
   "outputs": [
    {
     "name": "stdout",
     "output_type": "stream",
     "text": [
      "[[ 3  1]\n",
      " [-3  2]]\n"
     ]
    }
   ],
   "source": [
    "B = np.array([[3,1],   # 1st row\n",
    "              [-3,2]])  # 2nd row\n",
    "print(B)"
   ]
  },
  {
   "cell_type": "code",
   "execution_count": 6,
   "metadata": {
    "colab": {
     "base_uri": "https://localhost:8080/"
    },
    "id": "a_T_INThU1-h",
    "outputId": "73e0dede-6bcd-49e2-f86e-28a5c0f97a3c"
   },
   "outputs": [
    {
     "name": "stdout",
     "output_type": "stream",
     "text": [
      "[[ 3  3]\n",
      " [-2  6]]\n"
     ]
    }
   ],
   "source": [
    "print(A+B)"
   ]
  },
  {
   "cell_type": "code",
   "execution_count": 7,
   "metadata": {
    "colab": {
     "base_uri": "https://localhost:8080/"
    },
    "id": "x9hl2OnQVEaV",
    "outputId": "e56a4884-6e35-48ba-c17e-549d0a875940"
   },
   "outputs": [
    {
     "data": {
      "text/plain": [
       "array([[ 3,  3],\n",
       "       [-2,  6]])"
      ]
     },
     "execution_count": 7,
     "metadata": {},
     "output_type": "execute_result"
    }
   ],
   "source": [
    "mat_sum = A + B\n",
    "mat_sum"
   ]
  },
  {
   "cell_type": "code",
   "execution_count": 8,
   "metadata": {
    "colab": {
     "base_uri": "https://localhost:8080/"
    },
    "id": "3q5vyjNbVMfu",
    "outputId": "ddeb071c-2bf7-447e-fc08-ff223faf0c3e"
   },
   "outputs": [
    {
     "data": {
      "text/plain": [
       "array([[ 3,  3],\n",
       "       [-2,  6]])"
      ]
     },
     "execution_count": 8,
     "metadata": {},
     "output_type": "execute_result"
    }
   ],
   "source": [
    "np.add(A, B)"
   ]
  },
  {
   "cell_type": "code",
   "execution_count": 9,
   "metadata": {
    "colab": {
     "base_uri": "https://localhost:8080/"
    },
    "id": "dKxt0Sm_VRmU",
    "outputId": "60613238-63c6-4a22-973a-606f035e8c40"
   },
   "outputs": [
    {
     "name": "stdout",
     "output_type": "stream",
     "text": [
      "[[0 2 4]\n",
      " [1 4 2]\n",
      " [5 6 8]]\n"
     ]
    }
   ],
   "source": [
    "C = np.array([[0,2,4],   # 1st row\n",
    "              [1,4,2],   # 2nd row\n",
    "              [5,6,8]])  # 3rd row\n",
    "print(C)"
   ]
  },
  {
   "cell_type": "code",
   "execution_count": 10,
   "metadata": {
    "colab": {
     "base_uri": "https://localhost:8080/"
    },
    "id": "ibFJgfLFVl2d",
    "outputId": "bd60f715-e91e-4ac0-c65d-9c677d75dad7"
   },
   "outputs": [
    {
     "data": {
      "text/plain": [
       "array([[ 6,  6],\n",
       "       [-4, 12]])"
      ]
     },
     "execution_count": 10,
     "metadata": {},
     "output_type": "execute_result"
    }
   ],
   "source": [
    "# Matrix-scalar multiplication\n",
    "alpha = 2\n",
    "mat_scalar_mul = alpha * mat_sum\n",
    "mat_scalar_mul"
   ]
  },
  {
   "cell_type": "code",
   "execution_count": 11,
   "metadata": {
    "colab": {
     "base_uri": "https://localhost:8080/"
    },
    "id": "bSrlvHmMWfgo",
    "outputId": "c8b76a79-bee2-4ded-9d2d-d7c24286bbe7"
   },
   "outputs": [
    {
     "data": {
      "text/plain": [
       "array([[4],\n",
       "       [9]])"
      ]
     },
     "execution_count": 11,
     "metadata": {},
     "output_type": "execute_result"
    }
   ],
   "source": [
    "# Matrix-vector multiplication\n",
    "x = np.array([[1],\n",
    "              [2]])\n",
    "A @ x"
   ]
  },
  {
   "cell_type": "code",
   "execution_count": 12,
   "metadata": {
    "colab": {
     "base_uri": "https://localhost:8080/"
    },
    "id": "wyW4EjluXCEn",
    "outputId": "deaefac5-6db5-4eb9-c9c2-fad35dfce2a4"
   },
   "outputs": [
    {
     "data": {
      "text/plain": [
       "array([[4],\n",
       "       [9]])"
      ]
     },
     "execution_count": 12,
     "metadata": {},
     "output_type": "execute_result"
    }
   ],
   "source": [
    "np.dot(A, x)"
   ]
  },
  {
   "cell_type": "code",
   "execution_count": 13,
   "metadata": {
    "colab": {
     "base_uri": "https://localhost:8080/"
    },
    "id": "_Vv2jfy-XOjk",
    "outputId": "e7553c94-3219-4de9-e97b-5d434256ff9a"
   },
   "outputs": [
    {
     "data": {
      "text/plain": [
       "array([[21]])"
      ]
     },
     "execution_count": 13,
     "metadata": {},
     "output_type": "execute_result"
    }
   ],
   "source": [
    "D = np.array([[1],\n",
    "              [2]])\n",
    "E = np.array([[5],\n",
    "              [8]])\n",
    "# np.dot(D, E)   # error\n",
    "np.dot(D.T, E)"
   ]
  },
  {
   "cell_type": "code",
   "execution_count": 14,
   "metadata": {
    "colab": {
     "base_uri": "https://localhost:8080/"
    },
    "id": "CgUfRfgdX3CU",
    "outputId": "79096041-44f6-4f4d-84ca-de1861025f09"
   },
   "outputs": [
    {
     "data": {
      "text/plain": [
       "array([[-6,  4],\n",
       "       [-9,  9]])"
      ]
     },
     "execution_count": 14,
     "metadata": {},
     "output_type": "execute_result"
    }
   ],
   "source": [
    "# Matrix-matrix multiplication\n",
    "A @ B"
   ]
  },
  {
   "cell_type": "code",
   "execution_count": 15,
   "metadata": {
    "colab": {
     "base_uri": "https://localhost:8080/"
    },
    "id": "LXw3Zy0rYXAD",
    "outputId": "814fe287-5141-4e65-9607-715cbba2d590"
   },
   "outputs": [
    {
     "name": "stdout",
     "output_type": "stream",
     "text": [
      "[[-7. -7.  6.]\n",
      " [ 2.  1. -1.]\n",
      " [ 4.  5. -4.]]\n"
     ]
    }
   ],
   "source": [
    "# Matrix-Inverse\n",
    "F = np.array([[1,2,1],\n",
    "              [4,4,5],\n",
    "              [6,7,7]])\n",
    "F_inverse = np.linalg.inv(F)\n",
    "print(F_inverse)"
   ]
  },
  {
   "cell_type": "code",
   "execution_count": 16,
   "metadata": {
    "colab": {
     "base_uri": "https://localhost:8080/"
    },
    "id": "GElNb2mRZxac",
    "outputId": "6d7b8e29-e8ac-4dbc-a328-f64ddef9c4d9"
   },
   "outputs": [
    {
     "data": {
      "text/plain": [
       "array([[ 1.,  0.,  0.],\n",
       "       [ 0.,  1., -0.],\n",
       "       [ 0., -0.,  1.]])"
      ]
     },
     "execution_count": 16,
     "metadata": {},
     "output_type": "execute_result"
    }
   ],
   "source": [
    "I = F_inverse @ F\n",
    "np.round(I)"
   ]
  },
  {
   "cell_type": "code",
   "execution_count": 17,
   "metadata": {
    "colab": {
     "base_uri": "https://localhost:8080/"
    },
    "id": "AFY5gh0LaUzA",
    "outputId": "644a6900-7058-4b9b-d9fa-2c8ea30e31ec"
   },
   "outputs": [
    {
     "data": {
      "text/plain": [
       "(3, 2)"
      ]
     },
     "execution_count": 17,
     "metadata": {},
     "output_type": "execute_result"
    }
   ],
   "source": [
    "# Matrix Transpose\n",
    "G = np.array([[1,2],\n",
    "             [3,4],\n",
    "             [5,6]])\n",
    "G.shape"
   ]
  },
  {
   "cell_type": "code",
   "execution_count": 18,
   "metadata": {
    "colab": {
     "base_uri": "https://localhost:8080/"
    },
    "id": "08NrIA47a3j7",
    "outputId": "e6e8ac52-dbeb-4f0a-b866-d23fe1ef4b49"
   },
   "outputs": [
    {
     "data": {
      "text/plain": [
       "array([[1, 3, 5],\n",
       "       [2, 4, 6]])"
      ]
     },
     "execution_count": 18,
     "metadata": {},
     "output_type": "execute_result"
    }
   ],
   "source": [
    "mat_transpose = G.T\n",
    "mat_transpose"
   ]
  },
  {
   "cell_type": "code",
   "execution_count": 19,
   "metadata": {
    "colab": {
     "base_uri": "https://localhost:8080/"
    },
    "id": "yNe4dAYda6pR",
    "outputId": "522553d1-1d37-4eb7-e370-a7b2868d9d0e"
   },
   "outputs": [
    {
     "data": {
      "text/plain": [
       "(2, 3)"
      ]
     },
     "execution_count": 19,
     "metadata": {},
     "output_type": "execute_result"
    }
   ],
   "source": [
    "mat_transpose.shape"
   ]
  },
  {
   "cell_type": "code",
   "execution_count": 20,
   "metadata": {
    "colab": {
     "base_uri": "https://localhost:8080/"
    },
    "id": "_Js3hyyleeie",
    "outputId": "f3dadeef-a380-4768-87b5-b79bd5c98d4f"
   },
   "outputs": [
    {
     "data": {
      "text/plain": [
       "array([[ 0,  4],\n",
       "       [ 1, 16]])"
      ]
     },
     "execution_count": 20,
     "metadata": {},
     "output_type": "execute_result"
    }
   ],
   "source": [
    "# Hadamard product\n",
    "B = A = np.array([[0,2],    # 1st row\n",
    "                  [1,4]])   # 2nd row\n",
    "A * B"
   ]
  },
  {
   "cell_type": "code",
   "execution_count": 21,
   "metadata": {
    "colab": {
     "base_uri": "https://localhost:8080/"
    },
    "id": "DdG5tU9NgFEW",
    "outputId": "53bf63c0-9795-4749-c61f-d533e3cd4a9c"
   },
   "outputs": [
    {
     "data": {
      "text/plain": [
       "array([[ 0,  4],\n",
       "       [ 1, 16]])"
      ]
     },
     "execution_count": 21,
     "metadata": {},
     "output_type": "execute_result"
    }
   ],
   "source": [
    "np.multiply(A, B)"
   ]
  },
  {
   "cell_type": "code",
   "execution_count": 22,
   "metadata": {
    "id": "8UuPoJIag5g3"
   },
   "outputs": [],
   "source": [
    "# Gaussian elimination Method\n",
    "# 1. addition and subtraction of two equations\n",
    "# 2. Multiplication of an equation by a number\n",
    "# 3. Switching an equation"
   ]
  },
  {
   "cell_type": "code",
   "execution_count": 23,
   "metadata": {
    "colab": {
     "base_uri": "https://localhost:8080/"
    },
    "id": "HbZgm7MqktmM",
    "outputId": "5e827b09-5b18-41c0-b001-d03500d8f13f"
   },
   "outputs": [
    {
     "name": "stdout",
     "output_type": "stream",
     "text": [
      "[[-1]\n",
      " [ 1]\n",
      " [ 2]]\n"
     ]
    }
   ],
   "source": [
    "M = np.array([[1,3,5],\n",
    "              [2,2,-1],\n",
    "              [1,3,2]])\n",
    "y = np.array([[-1],\n",
    "              [1],\n",
    "              [2]])\n",
    "print(y)"
   ]
  },
  {
   "cell_type": "code",
   "execution_count": 24,
   "metadata": {
    "colab": {
     "base_uri": "https://localhost:8080/"
    },
    "id": "wLSWSqH-lSja",
    "outputId": "09926ab2-1a46-44b6-d236-176863b36dcf"
   },
   "outputs": [
    {
     "data": {
      "text/plain": [
       "array([[-2.],\n",
       "       [ 2.],\n",
       "       [-1.]])"
      ]
     },
     "execution_count": 24,
     "metadata": {},
     "output_type": "execute_result"
    }
   ],
   "source": [
    "solution = np.linalg.solve(M, y)\n",
    "solution"
   ]
  },
  {
   "cell_type": "code",
   "execution_count": 25,
   "metadata": {
    "id": "ExuaLO3cmlmo"
   },
   "outputs": [],
   "source": [
    "# A set of n Linaerly indepent column vectors with n elements forms a basis\n"
   ]
  }
 ],
 "metadata": {
  "colab": {
   "provenance": []
  },
  "kernelspec": {
   "display_name": "Python 3 (ipykernel)",
   "language": "python",
   "name": "python3"
  },
  "language_info": {
   "codemirror_mode": {
    "name": "ipython",
    "version": 3
   },
   "file_extension": ".py",
   "mimetype": "text/x-python",
   "name": "python",
   "nbconvert_exporter": "python",
   "pygments_lexer": "ipython3",
   "version": "3.12.1"
  }
 },
 "nbformat": 4,
 "nbformat_minor": 4
}
