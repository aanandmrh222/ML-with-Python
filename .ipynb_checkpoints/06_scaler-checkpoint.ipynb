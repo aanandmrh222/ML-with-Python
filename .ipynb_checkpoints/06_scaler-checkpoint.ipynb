{
 "cells": [
  {
   "cell_type": "code",
   "execution_count": 1,
   "metadata": {
    "id": "7FIEbf57yo_5"
   },
   "outputs": [],
   "source": [
    "import numpy as np"
   ]
  },
  {
   "cell_type": "code",
   "execution_count": 2,
   "metadata": {
    "id": "-_EdSW0W1CC6"
   },
   "outputs": [],
   "source": [
    "x = np.array([[1],[2],[3]])"
   ]
  },
  {
   "cell_type": "code",
   "execution_count": 3,
   "metadata": {
    "colab": {
     "base_uri": "https://localhost:8080/"
    },
    "id": "hAntnp0H1csy",
    "outputId": "57eea52e-dcf0-4bf0-cd30-43450f04439a"
   },
   "outputs": [
    {
     "data": {
      "text/plain": [
       "(3, 1)"
      ]
     },
     "execution_count": 3,
     "metadata": {},
     "output_type": "execute_result"
    }
   ],
   "source": [
    "x.shape"
   ]
  },
  {
   "cell_type": "code",
   "execution_count": 4,
   "metadata": {
    "colab": {
     "base_uri": "https://localhost:8080/"
    },
    "id": "Pc9Y8A6q1pJ4",
    "outputId": "895f9937-dc67-4648-db0e-9d17c0086469"
   },
   "outputs": [
    {
     "name": "stdout",
     "output_type": "stream",
     "text": [
      "A 3-D vactor: \n",
      "[[1]\n",
      " [2]\n",
      " [3]]\n"
     ]
    }
   ],
   "source": [
    "print(f'A 3-D vactor: \\n{x}')"
   ]
  },
  {
   "cell_type": "code",
   "execution_count": 5,
   "metadata": {
    "id": "skSSDTfq12kd"
   },
   "outputs": [],
   "source": [
    "y = np.array([[1],[2],[4]])"
   ]
  },
  {
   "cell_type": "code",
   "execution_count": 6,
   "metadata": {
    "colab": {
     "base_uri": "https://localhost:8080/"
    },
    "id": "patSaz022XM9",
    "outputId": "3e50ad5c-754c-4ac7-cb45-d5951496dd31"
   },
   "outputs": [
    {
     "data": {
      "text/plain": [
       "(3, 1)"
      ]
     },
     "execution_count": 6,
     "metadata": {},
     "output_type": "execute_result"
    }
   ],
   "source": [
    "y.shape"
   ]
  },
  {
   "cell_type": "code",
   "execution_count": 7,
   "metadata": {
    "colab": {
     "base_uri": "https://localhost:8080/"
    },
    "id": "C48W9rVV2ctz",
    "outputId": "f2d58fac-f1b6-4970-aa4e-cf2a9054ba4b"
   },
   "outputs": [
    {
     "data": {
      "text/plain": [
       "array([[2],\n",
       "       [4],\n",
       "       [7]])"
      ]
     },
     "execution_count": 7,
     "metadata": {},
     "output_type": "execute_result"
    }
   ],
   "source": [
    "x + y"
   ]
  },
  {
   "cell_type": "code",
   "execution_count": 8,
   "metadata": {
    "colab": {
     "base_uri": "https://localhost:8080/"
    },
    "id": "bzYJlUBX3v5s",
    "outputId": "4f13c339-6353-48ed-9509-6466d5ac7e86"
   },
   "outputs": [
    {
     "data": {
      "text/plain": [
       "array([[2],\n",
       "       [4],\n",
       "       [8]])"
      ]
     },
     "execution_count": 8,
     "metadata": {},
     "output_type": "execute_result"
    }
   ],
   "source": [
    "alpha = 2\n",
    "alpha * y"
   ]
  },
  {
   "cell_type": "code",
   "execution_count": 9,
   "metadata": {
    "colab": {
     "base_uri": "https://localhost:8080/"
    },
    "id": "3okN3v6y5ZJF",
    "outputId": "eb365e4c-1b9c-4f9f-d72b-33f4580bf260"
   },
   "outputs": [
    {
     "data": {
      "text/plain": [
       "array([[2],\n",
       "       [4],\n",
       "       [8]])"
      ]
     },
     "execution_count": 9,
     "metadata": {},
     "output_type": "execute_result"
    }
   ],
   "source": [
    "np.multiply(alpha, y)"
   ]
  },
  {
   "cell_type": "code",
   "execution_count": 10,
   "metadata": {
    "id": "IN3bpf0x6bic"
   },
   "outputs": [],
   "source": [
    "a, b = 2, 3\n",
    "x, y = np.array([[2],[3]]), np.array([[4],[5]])"
   ]
  },
  {
   "cell_type": "code",
   "execution_count": 11,
   "metadata": {
    "colab": {
     "base_uri": "https://localhost:8080/"
    },
    "id": "rKVACLOL7TGn",
    "outputId": "36400f24-f215-4fff-a461-8628e17a3c7c"
   },
   "outputs": [
    {
     "data": {
      "text/plain": [
       "array([[16],\n",
       "       [21]])"
      ]
     },
     "execution_count": 11,
     "metadata": {},
     "output_type": "execute_result"
    }
   ],
   "source": [
    "a*x + b*y   # linear multiplication"
   ]
  },
  {
   "cell_type": "code",
   "execution_count": 12,
   "metadata": {
    "colab": {
     "base_uri": "https://localhost:8080/"
    },
    "id": "lLoYHnhi-nei",
    "outputId": "f4d67594-b946-4b51-a7f2-2467a4168af7"
   },
   "outputs": [
    {
     "data": {
      "text/plain": [
       "array([[23]])"
      ]
     },
     "execution_count": 12,
     "metadata": {},
     "output_type": "execute_result"
    }
   ],
   "source": [
    "# Dot product - > @\n",
    "x.T@y"
   ]
  },
  {
   "cell_type": "code",
   "execution_count": 13,
   "metadata": {
    "colab": {
     "base_uri": "https://localhost:8080/"
    },
    "id": "tYfra-HpAJw1",
    "outputId": "5981b21f-7519-449a-d3f1-dd31d9d766f8"
   },
   "outputs": [
    {
     "data": {
      "text/plain": [
       "5.0"
      ]
     },
     "execution_count": 13,
     "metadata": {},
     "output_type": "execute_result"
    }
   ],
   "source": [
    "# Vector Norms\n",
    "# 1. Euclidean norm\n",
    "\n",
    "x = np.array([[3],[4]])\n",
    "np.linalg.norm(x, 2)"
   ]
  },
  {
   "cell_type": "code",
   "execution_count": 14,
   "metadata": {
    "colab": {
     "base_uri": "https://localhost:8080/"
    },
    "id": "97yswkTvDa2v",
    "outputId": "044e249d-2d8b-410c-a8e0-42ac22f1b75d"
   },
   "outputs": [
    {
     "data": {
      "text/plain": [
       "7.0"
      ]
     },
     "execution_count": 14,
     "metadata": {},
     "output_type": "execute_result"
    }
   ],
   "source": [
    "# 2. Manhattan norm\n",
    "\n",
    "x = np.array([[3],[-4]])\n",
    "np.linalg.norm(x, 1)"
   ]
  },
  {
   "cell_type": "code",
   "execution_count": 15,
   "metadata": {
    "colab": {
     "base_uri": "https://localhost:8080/"
    },
    "id": "teqPMJ8XDpL2",
    "outputId": "bfcc896c-6b67-40db-f8f4-1238a7590d2f"
   },
   "outputs": [
    {
     "data": {
      "text/plain": [
       "4.0"
      ]
     },
     "execution_count": 15,
     "metadata": {},
     "output_type": "execute_result"
    }
   ],
   "source": [
    "# 3. Max norm\n",
    "\n",
    "x = np.array([[3],[-4]])\n",
    "np.linalg.norm(x, np.inf)"
   ]
  },
  {
   "cell_type": "code",
   "execution_count": 16,
   "metadata": {
    "colab": {
     "base_uri": "https://localhost:8080/"
    },
    "id": "fJjz3PVbESnU",
    "outputId": "bdebf7a9-7a01-4c26-bd11-4ad7c5d30b59"
   },
   "outputs": [
    {
     "name": "stdout",
     "output_type": "stream",
     "text": [
      "7.810249675906656\n"
     ]
    }
   ],
   "source": [
    "# Distance of two vector\n",
    "x, y = np.array([[-2],[2]]), np.array([[4],[-3]])\n",
    "distance = np.linalg.norm(x-y, 2)\n",
    "print(distance)"
   ]
  },
  {
   "cell_type": "code",
   "execution_count": 17,
   "metadata": {
    "colab": {
     "base_uri": "https://localhost:8080/"
    },
    "id": "sjTEEZ64Ftpb",
    "outputId": "82c6cc50-3f42-43de-9403-232d73943f9a"
   },
   "outputs": [
    {
     "data": {
      "text/plain": [
       "array([[-0.46788772]])"
      ]
     },
     "execution_count": 17,
     "metadata": {},
     "output_type": "execute_result"
    }
   ],
   "source": [
    "# Angle between two vector\n",
    "\n",
    "x, y = np.array([[1],[-2]]), np.array([[5],[7]])\n",
    "cos_theta = (x.T @ y) / (np.linalg.norm(x, 2) *  np.linalg.norm(y, 2))\n",
    "cos_theta"
   ]
  },
  {
   "cell_type": "code",
   "execution_count": 18,
   "metadata": {
    "colab": {
     "base_uri": "https://localhost:8080/"
    },
    "id": "oLkYU8eGHDDo",
    "outputId": "3d97f5f7-bd70-4be3-afd4-e412ae510a62"
   },
   "outputs": [
    {
     "data": {
      "text/plain": [
       "array([[-0.468]])"
      ]
     },
     "execution_count": 18,
     "metadata": {},
     "output_type": "execute_result"
    }
   ],
   "source": [
    "np.round(cos_theta, 3)"
   ]
  },
  {
   "cell_type": "code",
   "execution_count": 19,
   "metadata": {
    "colab": {
     "base_uri": "https://localhost:8080/"
    },
    "id": "jPHrnxCJHHlF",
    "outputId": "4b46b176-5044-4ecb-d4bf-321c53e6a2e8"
   },
   "outputs": [
    {
     "data": {
      "text/plain": [
       "array([[2.05769556]])"
      ]
     },
     "execution_count": 19,
     "metadata": {},
     "output_type": "execute_result"
    }
   ],
   "source": [
    "cos_inverse = np.arccos(cos_theta)\n",
    "cos_inverse"
   ]
  },
  {
   "cell_type": "code",
   "execution_count": 20,
   "metadata": {
    "colab": {
     "base_uri": "https://localhost:8080/"
    },
    "id": "MIeEJFefHUeu",
    "outputId": "ad746ea6-3813-429e-e7d5-0b388ed5bbb4"
   },
   "outputs": [
    {
     "data": {
      "text/plain": [
       "array([[117.89727103]])"
      ]
     },
     "execution_count": 20,
     "metadata": {},
     "output_type": "execute_result"
    }
   ],
   "source": [
    "degree = cos_inverse * ((180)/np.pi)\n",
    "degree"
   ]
  },
  {
   "cell_type": "code",
   "execution_count": 21,
   "metadata": {
    "colab": {
     "base_uri": "https://localhost:8080/"
    },
    "id": "XXxnHThmHpOp",
    "outputId": "d3882c8c-5737-430e-cb1f-c2adad65edbc"
   },
   "outputs": [
    {
     "data": {
      "text/plain": [
       "array([[90.]])"
      ]
     },
     "execution_count": 21,
     "metadata": {},
     "output_type": "execute_result"
    }
   ],
   "source": [
    "x, y = np.array([[2],[0]]), np.array([[0],[2]])\n",
    "cos_theta = (x.T @ y) / (np.linalg.norm(x, 2) *  np.linalg.norm(y, 2))\n",
    "cos_theta\n",
    "np.round(cos_theta, 3)\n",
    "cos_inverse = np.arccos(cos_theta)\n",
    "cos_inverse\n",
    "degree = cos_inverse * ((180)/np.pi)\n",
    "degree"
   ]
  }
 ],
 "metadata": {
  "colab": {
   "provenance": []
  },
  "kernelspec": {
   "display_name": "Python 3 (ipykernel)",
   "language": "python",
   "name": "python3"
  },
  "language_info": {
   "codemirror_mode": {
    "name": "ipython",
    "version": 3
   },
   "file_extension": ".py",
   "mimetype": "text/x-python",
   "name": "python",
   "nbconvert_exporter": "python",
   "pygments_lexer": "ipython3",
   "version": "3.12.1"
  }
 },
 "nbformat": 4,
 "nbformat_minor": 4
}
